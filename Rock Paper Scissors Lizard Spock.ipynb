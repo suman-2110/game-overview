{
 "cells": [
  {
   "cell_type": "code",
   "execution_count": null,
   "metadata": {},
   "outputs": [],
   "source": [
    "def NumberToName (f):\n",
    "    if f==1:\n",
    "        return 'Scissors'\n",
    "    elif f==2:\n",
    "        return 'Rock'\n",
    "    elif f==3:\n",
    "        return 'Spock'\n",
    "    elif f==4:\n",
    "        return 'Paper'\n",
    "    elif f==5:\n",
    "        return 'Lizard'"
   ]
  },
  {
   "cell_type": "code",
   "execution_count": null,
   "metadata": {},
   "outputs": [],
   "source": [
    "def NameToNumber (f):\n",
    "    if f=='scissors':\n",
    "        return 1\n",
    "    elif f=='rock':\n",
    "        return 2\n",
    "    elif f=='spock':\n",
    "        return 3\n",
    "    elif f=='paper':\n",
    "        return 4\n",
    "    elif f=='lizard':\n",
    "        return 5\n",
    "    else:\n",
    "        print (\"Error. Try again?\")"
   ]
  },
  {
   "cell_type": "code",
   "execution_count": null,
   "metadata": {},
   "outputs": [],
   "source": [
    "print (\"Welcome to Sheldon Cooper Presents 'Rock Paper Scissors Lizard Spock' brought to you by Chuck Lorre\")\n",
    "print (\"Let's go through the rules first!\")\n",
    "print (\"Scissor cuts paper\\nPaper covers Rock\\nRock crushes Lizard\\nLizard poisons Spock\\nSpock smashes scissors\\nScissors decapitates Lizard\\nLizard eats Paper\\nPaper disproves Spock\\nSpock vapourizes Rock\\nAnd, as it always has, Rock crushes Scissors.\")\n",
    "print (\"\\nSo, let's start the game!\\nMay the force be with you!\")\n",
    "print(\"Whom with you like to play the game with?\")\n",
    "print(\"1. Computer\\n2. Person\")\n",
    "cp = int(input(\"Enter 1 or 2: \"))\n",
    "if cp==1:\n",
    "    import random\n",
    "    pc1=input(\"Enter your choice among Rock, Paper, Scissors, Lizard & Spock: \")\n",
    "    pc3=pc1.lower()\n",
    "    pc2=NameToNumber(pc3)\n",
    "    if (pc2): \n",
    "        print (\"Player chose\",pc1)\n",
    "        cc2=random.randrange(1,6)\n",
    "        cc1=NumberToName(cc2)\n",
    "        print (\"Computer chose\",cc1)\n",
    "        d=(cc2-pc2)%5\n",
    "        if (d==1 or d==2):\n",
    "            print (f\"Computer wins, as {cc1} beats {pc1}\")\n",
    "        elif (d==3 or d==4):\n",
    "            print (f\"Player wins, as {pc1} beats {cc1}\")\n",
    "        elif (d==0):\n",
    "            print (f\"Both player & computer chose {cc1}, hence it's a tie!\")\n",
    "            \n",
    "elif cp==2:\n",
    "    n1=input(\"Enter the name of Player 1: \")\n",
    "    n2=input(\"Enter the name of Player 2: \")\n",
    "    p1c1=input(f\"{n1}, enter your choice among Rock, Paper, Scissors, Lizard & Spock: \")\n",
    "    p1c3=p1c1.lower()\n",
    "    p1c2=NameToNumber(p1c3)\n",
    "    p2c1=input(f\"{n2}, enter your choice among Rock, Paper, Scissors, Lizard & Spock: \")\n",
    "    p2c3=p2c1.lower()\n",
    "    p2c2=NameToNumber(p2c3)\n",
    "    if (p1c2>0 and p2c2>0): \n",
    "        print (f\"{n1} chose\",p1c1)\n",
    "        print (f\"{n2} chose\",p2c1)\n",
    "        d=(p2c2-p1c2)%5\n",
    "        if (d==1 or d==2):\n",
    "            print (f\"{n2} wins, as {p2c1} beats {p1c1}\")\n",
    "        elif (d==3 or d==4):\n",
    "            print (f\"{n1} wins, as {p1c1} beats {p2c1}\")\n",
    "        elif (d==0):\n",
    "            print (f\"Both {n1} & {n2} chose {p2c1}, hence it's a tie!\")\n",
    "            \n",
    "else:\n",
    "    print(\"Invalid choice.\")"
   ]
  },
  {
   "cell_type": "code",
   "execution_count": null,
   "metadata": {},
   "outputs": [],
   "source": [
    "print (\"Thanks for playing!\")"
   ]
  }
 ],
 "metadata": {
  "kernelspec": {
   "display_name": "Python 3",
   "language": "python",
   "name": "python3"
  },
  "language_info": {
   "codemirror_mode": {
    "name": "ipython",
    "version": 3
   },
   "file_extension": ".py",
   "mimetype": "text/x-python",
   "name": "python",
   "nbconvert_exporter": "python",
   "pygments_lexer": "ipython3",
   "version": "3.7.3"
  }
 },
 "nbformat": 4,
 "nbformat_minor": 2
}
